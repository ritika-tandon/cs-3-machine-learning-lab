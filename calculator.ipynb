{
  "nbformat": 4,
  "nbformat_minor": 0,
  "metadata": {
    "colab": {
      "name": "Untitled1.ipynb",
      "provenance": [],
      "authorship_tag": "ABX9TyOXTHC71xwQ13QhG4bKhTDp",
      "include_colab_link": true
    },
    "kernelspec": {
      "name": "python3",
      "display_name": "Python 3"
    }
  },
  "cells": [
    {
      "cell_type": "markdown",
      "metadata": {
        "id": "view-in-github",
        "colab_type": "text"
      },
      "source": [
        "<a href=\"https://colab.research.google.com/github/ritika-tandon/cs-3-machine-learning-lab/blob/master/calculator.ipynb\" target=\"_parent\"><img src=\"https://colab.research.google.com/assets/colab-badge.svg\" alt=\"Open In Colab\"/></a>"
      ]
    },
    {
      "cell_type": "code",
      "metadata": {
        "id": "oggOisEfiF0-",
        "outputId": "630f59c8-9de9-40aa-cbbd-67c887f88fe0",
        "colab": {
          "base_uri": "https://localhost:8080/"
        }
      },
      "source": [
        "def add(n1,n2):\n",
        "  return n1+n2\n",
        "def sub(n1,n2):\n",
        "  return n1-n2\n",
        "def mul(n1,n2):\n",
        "  return n1*n2\n",
        "def div(n1,n2):\n",
        "  return n1/n2\n",
        "def rem(n1,n2):\n",
        "  return n1%n2\n",
        "\n",
        "n1=int(input(\"enter first number :\"))\n",
        "n2=int(input(\"enter second number :\"))\n",
        "if n1<n2:\n",
        "  temp=n1\n",
        "  n1=n2\n",
        "  n2=temp\n",
        "print(\"1. Addition\")\n",
        "print(     \"2.sub\")\n",
        "print(  \"3.mul\")\n",
        "print(  \"4. divi\")\n",
        "print(  \"5.rem\")\n",
        "print(\"the number to which operation you want to perform: \")\n",
        "n=int(input())\n",
        "if n==1:\n",
        "  print(n1,\"+\",n2,\" : \", add(n1,n2))\n",
        "elif n==2:\n",
        "  print(n1,\"-\",n2,\" : \", sub(n1,n2))\n",
        "elif n==3:\n",
        "  print(n1,\"*\",n2,\" : \", mul(n1,n2))\n",
        "elif n==4:\n",
        "  print(n1,\"/\",n2,\" : \", div(n1,n2))\n",
        "elif n==5:\n",
        "  print(n1,\"%\",n2,\" : \", rem(n1,n2))\n",
        "  \n",
        "  \n",
        "  \n"
      ],
      "execution_count": 22,
      "outputs": [
        {
          "output_type": "stream",
          "text": [
            "enter first number :3\n",
            "enter second number :1\n",
            "1. Addition\n",
            "2.sub\n",
            "3.mul\n",
            "4. divi\n",
            "5.rem\n",
            "the number to which operation you want to perform: \n",
            "5\n",
            "3 % 1  :  0\n"
          ],
          "name": "stdout"
        }
      ]
    }
  ]
}