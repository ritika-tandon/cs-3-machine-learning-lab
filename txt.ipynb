{
  "nbformat": 4,
  "nbformat_minor": 0,
  "metadata": {
    "colab": {
      "name": "Untitled3.ipynb",
      "provenance": [],
      "authorship_tag": "ABX9TyPdlIVjti2U2Q/ZF9Wt6gI2",
      "include_colab_link": true
    },
    "kernelspec": {
      "name": "python3",
      "display_name": "Python 3"
    }
  },
  "cells": [
    {
      "cell_type": "markdown",
      "metadata": {
        "id": "view-in-github",
        "colab_type": "text"
      },
      "source": [
        "<a href=\"https://colab.research.google.com/github/ritika-tandon/cs-3-machine-learning-lab/blob/master/txt.ipynb\" target=\"_parent\"><img src=\"https://colab.research.google.com/assets/colab-badge.svg\" alt=\"Open In Colab\"/></a>"
      ]
    },
    {
      "cell_type": "code",
      "metadata": {
        "id": "FGO4RzYtPuCy",
        "outputId": "884e5d10-7d4d-4eac-efa0-bd0201e0d08a",
        "colab": {
          "base_uri": "https://localhost:8080/"
        }
      },
      "source": [
        "def game_over():\n",
        "  print(\"you lose game over\")\n",
        "  print(\"want to play again enter y or n\")\n",
        "  k=input()\n",
        "  if(k=='y'):\n",
        "    start()\n",
        "  else:\n",
        "    exit()\n",
        "def diamond_room():\n",
        "  print(\"in diamond\")\n",
        "  print(\"press 1 or 2\")\n",
        "  n2=int(input())\n",
        "  if n2==1:\n",
        "    game_over()\n",
        "    \n",
        "  elif n2==2:\n",
        "    print(\"congratulation , you won\")\n",
        "  else:\n",
        "     print(\"invlalid input\")\n",
        "     \n",
        "def bear_room():\n",
        "  print(\"in bear room\")\n",
        "  print(\"press 1 or 2\")\n",
        "  n2=int(input())\n",
        "  if n2==1:\n",
        "    game_over()\n",
        "    \n",
        "  elif n2==2:\n",
        "    diamond_room()\n",
        "  else:\n",
        "     print(\"invlalid input\")\n",
        "    \n",
        "def monster_room():\n",
        "  print(\"in monsterroom\")\n",
        "  print(\"press 1 or 2\")\n",
        "  n2=int(input())\n",
        "  if n2==2:\n",
        "    game_over()\n",
        "    \n",
        "  elif n2==1:\n",
        "    diamond_room()\n",
        "  else:\n",
        "     print(\"invlalid input\")\n",
        "def start():   \n",
        " n1=input(\"enter left or right\")\n",
        " n1=n1.lower()\n",
        "#print(n1)\n",
        " if n1=='left':\n",
        "  bear_room()\n",
        " elif n1=='right':\n",
        "  monster_room()\n",
        " else:\n",
        "  print(\"invlalid input\")\n",
        "  \n",
        "start()\n"
      ],
      "execution_count": 16,
      "outputs": [
        {
          "output_type": "stream",
          "text": [
            "enter left or rightleft\n",
            "in bear room\n",
            "press 1 or 2\n",
            "1\n",
            "you lose game over\n",
            "want to play again enter y or n\n",
            "y\n",
            "enter left or rightleft\n",
            "in bear room\n",
            "press 1 or 2\n",
            "2\n",
            "in diamond\n",
            "press 1 or 2\n",
            "2\n",
            "congratulation , you won\n"
          ],
          "name": "stdout"
        }
      ]
    }
  ]
}