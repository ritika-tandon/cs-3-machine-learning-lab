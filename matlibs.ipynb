{
  "nbformat": 4,
  "nbformat_minor": 0,
  "metadata": {
    "colab": {
      "name": "Untitled2.ipynb",
      "provenance": [],
      "collapsed_sections": [],
      "authorship_tag": "ABX9TyMJHDKoOnbi1bvRNk1CgpD2",
      "include_colab_link": true
    },
    "kernelspec": {
      "name": "python3",
      "display_name": "Python 3"
    }
  },
  "cells": [
    {
      "cell_type": "markdown",
      "metadata": {
        "id": "view-in-github",
        "colab_type": "text"
      },
      "source": [
        "<a href=\"https://colab.research.google.com/github/ritika-tandon/cs-3-machine-learning-lab/blob/master/matlibs.ipynb\" target=\"_parent\"><img src=\"https://colab.research.google.com/assets/colab-badge.svg\" alt=\"Open In Colab\"/></a>"
      ]
    },
    {
      "cell_type": "code",
      "metadata": {
        "id": "_v6kz7SiIxny",
        "outputId": "4e299e4e-d054-4376-cb8b-34f42753a11a",
        "colab": {
          "base_uri": "https://localhost:8080/"
        }
      },
      "source": [
        "fruit=input(\"enter name of fruit\")\n",
        "colour=input(\"enter color\")\n",
        "place=input(\"enter place\")\n",
        "#price=int(input(\"enter price\"))\n",
        "#amount=int(input(\"enter amount\"))\n",
        "adj=input(\"enter adjective\")\n"
      ],
      "execution_count": 10,
      "outputs": [
        {
          "output_type": "stream",
          "text": [
            "enter name of fruitmango\n",
            "enter coloryellow\n",
            "enter placeindore\n",
            "enter price100\n",
            "enter amount1\n",
            "enter adjectivetasty\n"
          ],
          "name": "stdout"
        }
      ]
    },
    {
      "cell_type": "markdown",
      "metadata": {
        "id": "48GBjrH3KROe"
      },
      "source": [
        ""
      ]
    },
    {
      "cell_type": "code",
      "metadata": {
        "id": "7wuYMyI0KSkJ",
        "outputId": "b89eb848-c8f7-4ccc-dd6a-c5384997ad94",
        "colab": {
          "base_uri": "https://localhost:8080/"
        }
      },
      "source": [
        "print('Today I brought '+fruit+ ' which was of ' +colour+ ' from ' +place+  ' and is ' +adj)"
      ],
      "execution_count": 16,
      "outputs": [
        {
          "output_type": "stream",
          "text": [
            "Today I brought mango which was of yellow from indore and is tasty\n"
          ],
          "name": "stdout"
        }
      ]
    }
  ]
}